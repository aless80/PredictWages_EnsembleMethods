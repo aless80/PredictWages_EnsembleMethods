{
 "cells": [
  {
   "cell_type": "markdown",
   "metadata": {},
   "source": [
    "## Predicting wages\n",
    "### Ensemble model"
   ]
  },
  {
   "cell_type": "markdown",
   "metadata": {},
   "source": [
    "Read the data and sneak a peek into it"
   ]
  },
  {
   "cell_type": "code",
   "execution_count": 1,
   "metadata": {
    "collapsed": false
   },
   "outputs": [
    {
     "data": {
      "text/html": [
       "<style>.container { width:100% !important; }</style>"
      ],
      "text/plain": [
       "<IPython.core.display.HTML object>"
      ]
     },
     "metadata": {},
     "output_type": "display_data"
    },
    {
     "data": {
      "text/html": [
       "<div>\n",
       "<style>\n",
       "    .dataframe thead tr:only-child th {\n",
       "        text-align: right;\n",
       "    }\n",
       "\n",
       "    .dataframe thead th {\n",
       "        text-align: left;\n",
       "    }\n",
       "\n",
       "    .dataframe tbody tr th {\n",
       "        vertical-align: top;\n",
       "    }\n",
       "</style>\n",
       "<table border=\"1\" class=\"dataframe\">\n",
       "  <thead>\n",
       "    <tr style=\"text-align: right;\">\n",
       "      <th></th>\n",
       "      <th>wage</th>\n",
       "      <th>lwage</th>\n",
       "      <th>sex</th>\n",
       "      <th>white</th>\n",
       "      <th>black</th>\n",
       "      <th>hisp</th>\n",
       "      <th>shs</th>\n",
       "      <th>hsg</th>\n",
       "      <th>scl</th>\n",
       "      <th>clg</th>\n",
       "      <th>...</th>\n",
       "      <th>health</th>\n",
       "      <th>age</th>\n",
       "      <th>exp1</th>\n",
       "      <th>exp2</th>\n",
       "      <th>exp3</th>\n",
       "      <th>exp4</th>\n",
       "      <th>occ</th>\n",
       "      <th>occ2</th>\n",
       "      <th>ind</th>\n",
       "      <th>ind2</th>\n",
       "    </tr>\n",
       "  </thead>\n",
       "  <tbody>\n",
       "    <tr>\n",
       "      <th>count</th>\n",
       "      <td>12697.000000</td>\n",
       "      <td>12697.000000</td>\n",
       "      <td>12697.000000</td>\n",
       "      <td>12697.000000</td>\n",
       "      <td>12697.000000</td>\n",
       "      <td>12697.000000</td>\n",
       "      <td>12697.000000</td>\n",
       "      <td>12697.000000</td>\n",
       "      <td>12697.000000</td>\n",
       "      <td>12697.000000</td>\n",
       "      <td>...</td>\n",
       "      <td>12697.000000</td>\n",
       "      <td>12697.000000</td>\n",
       "      <td>12697.000000</td>\n",
       "      <td>12697.000000</td>\n",
       "      <td>12697.000000</td>\n",
       "      <td>12697.000000</td>\n",
       "      <td>12697.000000</td>\n",
       "      <td>12697.000000</td>\n",
       "      <td>12697.000000</td>\n",
       "      <td>12697.000000</td>\n",
       "    </tr>\n",
       "    <tr>\n",
       "      <th>mean</th>\n",
       "      <td>18.145961</td>\n",
       "      <td>2.730945</td>\n",
       "      <td>0.542805</td>\n",
       "      <td>0.696070</td>\n",
       "      <td>0.189179</td>\n",
       "      <td>0.222887</td>\n",
       "      <td>0.064661</td>\n",
       "      <td>0.308734</td>\n",
       "      <td>0.301567</td>\n",
       "      <td>0.236513</td>\n",
       "      <td>...</td>\n",
       "      <td>0.717650</td>\n",
       "      <td>33.703158</td>\n",
       "      <td>12.064897</td>\n",
       "      <td>2.762380</td>\n",
       "      <td>8.145416</td>\n",
       "      <td>27.794773</td>\n",
       "      <td>8440.043554</td>\n",
       "      <td>12.966449</td>\n",
       "      <td>7771.903836</td>\n",
       "      <td>13.266598</td>\n",
       "    </tr>\n",
       "    <tr>\n",
       "      <th>std</th>\n",
       "      <td>10.466483</td>\n",
       "      <td>0.625985</td>\n",
       "      <td>0.498184</td>\n",
       "      <td>0.459971</td>\n",
       "      <td>0.391666</td>\n",
       "      <td>0.416200</td>\n",
       "      <td>0.245936</td>\n",
       "      <td>0.461989</td>\n",
       "      <td>0.458956</td>\n",
       "      <td>0.424957</td>\n",
       "      <td>...</td>\n",
       "      <td>0.450161</td>\n",
       "      <td>11.347140</td>\n",
       "      <td>11.431822</td>\n",
       "      <td>4.490614</td>\n",
       "      <td>19.186165</td>\n",
       "      <td>91.651419</td>\n",
       "      <td>19443.325548</td>\n",
       "      <td>6.647292</td>\n",
       "      <td>11658.013997</td>\n",
       "      <td>5.902888</td>\n",
       "    </tr>\n",
       "    <tr>\n",
       "      <th>min</th>\n",
       "      <td>0.001923</td>\n",
       "      <td>-6.253829</td>\n",
       "      <td>0.000000</td>\n",
       "      <td>0.000000</td>\n",
       "      <td>0.000000</td>\n",
       "      <td>0.000000</td>\n",
       "      <td>0.000000</td>\n",
       "      <td>0.000000</td>\n",
       "      <td>0.000000</td>\n",
       "      <td>0.000000</td>\n",
       "      <td>...</td>\n",
       "      <td>0.000000</td>\n",
       "      <td>16.000000</td>\n",
       "      <td>0.000000</td>\n",
       "      <td>0.000000</td>\n",
       "      <td>0.000000</td>\n",
       "      <td>0.000000</td>\n",
       "      <td>10.000000</td>\n",
       "      <td>1.000000</td>\n",
       "      <td>170.000000</td>\n",
       "      <td>1.000000</td>\n",
       "    </tr>\n",
       "    <tr>\n",
       "      <th>25%</th>\n",
       "      <td>10.576923</td>\n",
       "      <td>2.358675</td>\n",
       "      <td>0.000000</td>\n",
       "      <td>0.000000</td>\n",
       "      <td>0.000000</td>\n",
       "      <td>0.000000</td>\n",
       "      <td>0.000000</td>\n",
       "      <td>0.000000</td>\n",
       "      <td>0.000000</td>\n",
       "      <td>0.000000</td>\n",
       "      <td>...</td>\n",
       "      <td>0.000000</td>\n",
       "      <td>25.000000</td>\n",
       "      <td>3.000000</td>\n",
       "      <td>0.090000</td>\n",
       "      <td>0.027000</td>\n",
       "      <td>0.008100</td>\n",
       "      <td>2340.000000</td>\n",
       "      <td>8.000000</td>\n",
       "      <td>4970.000000</td>\n",
       "      <td>9.000000</td>\n",
       "    </tr>\n",
       "    <tr>\n",
       "      <th>50%</th>\n",
       "      <td>15.384615</td>\n",
       "      <td>2.733368</td>\n",
       "      <td>1.000000</td>\n",
       "      <td>1.000000</td>\n",
       "      <td>0.000000</td>\n",
       "      <td>0.000000</td>\n",
       "      <td>0.000000</td>\n",
       "      <td>0.000000</td>\n",
       "      <td>0.000000</td>\n",
       "      <td>0.000000</td>\n",
       "      <td>...</td>\n",
       "      <td>1.000000</td>\n",
       "      <td>30.000000</td>\n",
       "      <td>8.000000</td>\n",
       "      <td>0.640000</td>\n",
       "      <td>0.512000</td>\n",
       "      <td>0.409600</td>\n",
       "      <td>4700.000000</td>\n",
       "      <td>15.000000</td>\n",
       "      <td>7380.000000</td>\n",
       "      <td>14.000000</td>\n",
       "    </tr>\n",
       "    <tr>\n",
       "      <th>75%</th>\n",
       "      <td>23.237179</td>\n",
       "      <td>3.145754</td>\n",
       "      <td>1.000000</td>\n",
       "      <td>1.000000</td>\n",
       "      <td>0.000000</td>\n",
       "      <td>0.000000</td>\n",
       "      <td>0.000000</td>\n",
       "      <td>1.000000</td>\n",
       "      <td>1.000000</td>\n",
       "      <td>0.000000</td>\n",
       "      <td>...</td>\n",
       "      <td>1.000000</td>\n",
       "      <td>40.000000</td>\n",
       "      <td>19.000000</td>\n",
       "      <td>3.610000</td>\n",
       "      <td>6.859000</td>\n",
       "      <td>13.032100</td>\n",
       "      <td>6220.000000</td>\n",
       "      <td>17.000000</td>\n",
       "      <td>8290.000000</td>\n",
       "      <td>18.000000</td>\n",
       "    </tr>\n",
       "    <tr>\n",
       "      <th>max</th>\n",
       "      <td>58.119658</td>\n",
       "      <td>4.062504</td>\n",
       "      <td>1.000000</td>\n",
       "      <td>1.000000</td>\n",
       "      <td>1.000000</td>\n",
       "      <td>1.000000</td>\n",
       "      <td>1.000000</td>\n",
       "      <td>1.000000</td>\n",
       "      <td>1.000000</td>\n",
       "      <td>1.000000</td>\n",
       "      <td>...</td>\n",
       "      <td>1.000000</td>\n",
       "      <td>85.000000</td>\n",
       "      <td>65.500000</td>\n",
       "      <td>42.902500</td>\n",
       "      <td>281.011375</td>\n",
       "      <td>1840.624506</td>\n",
       "      <td>100000.000000</td>\n",
       "      <td>22.000000</td>\n",
       "      <td>100000.000000</td>\n",
       "      <td>23.000000</td>\n",
       "    </tr>\n",
       "  </tbody>\n",
       "</table>\n",
       "<p>8 rows × 37 columns</p>\n",
       "</div>"
      ],
      "text/plain": [
       "               wage         lwage           sex         white         black  \\\n",
       "count  12697.000000  12697.000000  12697.000000  12697.000000  12697.000000   \n",
       "mean      18.145961      2.730945      0.542805      0.696070      0.189179   \n",
       "std       10.466483      0.625985      0.498184      0.459971      0.391666   \n",
       "min        0.001923     -6.253829      0.000000      0.000000      0.000000   \n",
       "25%       10.576923      2.358675      0.000000      0.000000      0.000000   \n",
       "50%       15.384615      2.733368      1.000000      1.000000      0.000000   \n",
       "75%       23.237179      3.145754      1.000000      1.000000      0.000000   \n",
       "max       58.119658      4.062504      1.000000      1.000000      1.000000   \n",
       "\n",
       "               hisp           shs           hsg           scl           clg  \\\n",
       "count  12697.000000  12697.000000  12697.000000  12697.000000  12697.000000   \n",
       "mean       0.222887      0.064661      0.308734      0.301567      0.236513   \n",
       "std        0.416200      0.245936      0.461989      0.458956      0.424957   \n",
       "min        0.000000      0.000000      0.000000      0.000000      0.000000   \n",
       "25%        0.000000      0.000000      0.000000      0.000000      0.000000   \n",
       "50%        0.000000      0.000000      0.000000      0.000000      0.000000   \n",
       "75%        0.000000      0.000000      1.000000      1.000000      0.000000   \n",
       "max        1.000000      1.000000      1.000000      1.000000      1.000000   \n",
       "\n",
       "           ...             health           age          exp1          exp2  \\\n",
       "count      ...       12697.000000  12697.000000  12697.000000  12697.000000   \n",
       "mean       ...           0.717650     33.703158     12.064897      2.762380   \n",
       "std        ...           0.450161     11.347140     11.431822      4.490614   \n",
       "min        ...           0.000000     16.000000      0.000000      0.000000   \n",
       "25%        ...           0.000000     25.000000      3.000000      0.090000   \n",
       "50%        ...           1.000000     30.000000      8.000000      0.640000   \n",
       "75%        ...           1.000000     40.000000     19.000000      3.610000   \n",
       "max        ...           1.000000     85.000000     65.500000     42.902500   \n",
       "\n",
       "               exp3          exp4            occ          occ2            ind  \\\n",
       "count  12697.000000  12697.000000   12697.000000  12697.000000   12697.000000   \n",
       "mean       8.145416     27.794773    8440.043554     12.966449    7771.903836   \n",
       "std       19.186165     91.651419   19443.325548      6.647292   11658.013997   \n",
       "min        0.000000      0.000000      10.000000      1.000000     170.000000   \n",
       "25%        0.027000      0.008100    2340.000000      8.000000    4970.000000   \n",
       "50%        0.512000      0.409600    4700.000000     15.000000    7380.000000   \n",
       "75%        6.859000     13.032100    6220.000000     17.000000    8290.000000   \n",
       "max      281.011375   1840.624506  100000.000000     22.000000  100000.000000   \n",
       "\n",
       "               ind2  \n",
       "count  12697.000000  \n",
       "mean      13.266598  \n",
       "std        5.902888  \n",
       "min        1.000000  \n",
       "25%        9.000000  \n",
       "50%       14.000000  \n",
       "75%       18.000000  \n",
       "max       23.000000  \n",
       "\n",
       "[8 rows x 37 columns]"
      ]
     },
     "execution_count": 1,
     "metadata": {},
     "output_type": "execute_result"
    }
   ],
   "source": [
    "from IPython.core.display import display, HTML\n",
    "display(HTML(\"<style>.container { width:100% !important; }</style>\"))\n",
    "#from IPython.core.interactiveshell import InteractiveShell\n",
    "#InteractiveShell.ast_node_interactivity = \"all\" #default 'last_expr'\n",
    "import pandas as pd\n",
    "import numpy as np\n",
    "\n",
    "data = pd.read_csv('wage2015.csv', index_col=False, header=0)\n",
    "data.head(5)\n",
    "data.describe()"
   ]
  },
  {
   "cell_type": "markdown",
   "metadata": {},
   "source": [
    "Correlation between predictors"
   ]
  },
  {
   "cell_type": "code",
   "execution_count": 2,
   "metadata": {
    "collapsed": false
   },
   "outputs": [
    {
     "data": {
      "image/png": "[encoded data removed]",
      "text/plain": [
       "<matplotlib.figure.Figure at 0x7f021e638250>"
      ]
     },
     "metadata": {},
     "output_type": "display_data"
    }
   ],
   "source": [
    "%matplotlib inline\n",
    "import matplotlib.pyplot as plt\n",
    "fig = plt.figure(figsize=(10, 10))\n",
    "ax = fig.add_subplot(111)\n",
    "cax = ax.matshow(data.corr(), vmin=-1, vmax=1)\n",
    "fig.colorbar(cax)\n",
    "ticks = np.arange(0,data.shape[1],1)\n",
    "ax.set_xticks(ticks)\n",
    "ax.set_yticks(ticks)\n",
    "ax.set_xticklabels(data.columns,rotation=60)\n",
    "ax.set_yticklabels(data.columns)\n",
    "plt.show();"
   ]
  },
  {
   "cell_type": "markdown",
   "metadata": {},
   "source": [
    "Data wrangling: one-hot encodings"
   ]
  },
  {
   "cell_type": "code",
   "execution_count": 3,
   "metadata": {
    "collapsed": false
   },
   "outputs": [
    {
     "data": {
      "text/html": [
       "<div>\n",
       "<style>\n",
       "    .dataframe thead tr:only-child th {\n",
       "        text-align: right;\n",
       "    }\n",
       "\n",
       "    .dataframe thead th {\n",
       "        text-align: left;\n",
       "    }\n",
       "\n",
       "    .dataframe tbody tr th {\n",
       "        vertical-align: top;\n",
       "    }\n",
       "</style>\n",
       "<table border=\"1\" class=\"dataframe\">\n",
       "  <thead>\n",
       "    <tr style=\"text-align: right;\">\n",
       "      <th></th>\n",
       "      <th>sex</th>\n",
       "      <th>white</th>\n",
       "      <th>black</th>\n",
       "      <th>hisp</th>\n",
       "      <th>shs</th>\n",
       "      <th>hsg</th>\n",
       "      <th>scl</th>\n",
       "      <th>clg</th>\n",
       "      <th>mw</th>\n",
       "      <th>so</th>\n",
       "      <th>...</th>\n",
       "      <th>int213</th>\n",
       "      <th>int214</th>\n",
       "      <th>int215</th>\n",
       "      <th>int216</th>\n",
       "      <th>int217</th>\n",
       "      <th>int218</th>\n",
       "      <th>int219</th>\n",
       "      <th>int220</th>\n",
       "      <th>int221</th>\n",
       "      <th>int222</th>\n",
       "    </tr>\n",
       "  </thead>\n",
       "  <tbody>\n",
       "    <tr>\n",
       "      <th>0</th>\n",
       "      <td>0</td>\n",
       "      <td>1</td>\n",
       "      <td>0</td>\n",
       "      <td>0</td>\n",
       "      <td>0</td>\n",
       "      <td>0</td>\n",
       "      <td>0</td>\n",
       "      <td>1</td>\n",
       "      <td>0</td>\n",
       "      <td>0</td>\n",
       "      <td>...</td>\n",
       "      <td>0</td>\n",
       "      <td>0</td>\n",
       "      <td>0</td>\n",
       "      <td>0</td>\n",
       "      <td>1</td>\n",
       "      <td>0</td>\n",
       "      <td>0</td>\n",
       "      <td>0</td>\n",
       "      <td>0</td>\n",
       "      <td>0</td>\n",
       "    </tr>\n",
       "    <tr>\n",
       "      <th>1</th>\n",
       "      <td>1</td>\n",
       "      <td>1</td>\n",
       "      <td>0</td>\n",
       "      <td>0</td>\n",
       "      <td>0</td>\n",
       "      <td>0</td>\n",
       "      <td>0</td>\n",
       "      <td>1</td>\n",
       "      <td>0</td>\n",
       "      <td>0</td>\n",
       "      <td>...</td>\n",
       "      <td>0</td>\n",
       "      <td>0</td>\n",
       "      <td>0</td>\n",
       "      <td>0</td>\n",
       "      <td>0</td>\n",
       "      <td>0</td>\n",
       "      <td>0</td>\n",
       "      <td>0</td>\n",
       "      <td>0</td>\n",
       "      <td>0</td>\n",
       "    </tr>\n",
       "    <tr>\n",
       "      <th>2</th>\n",
       "      <td>1</td>\n",
       "      <td>1</td>\n",
       "      <td>0</td>\n",
       "      <td>0</td>\n",
       "      <td>0</td>\n",
       "      <td>1</td>\n",
       "      <td>0</td>\n",
       "      <td>0</td>\n",
       "      <td>0</td>\n",
       "      <td>0</td>\n",
       "      <td>...</td>\n",
       "      <td>0</td>\n",
       "      <td>0</td>\n",
       "      <td>0</td>\n",
       "      <td>0</td>\n",
       "      <td>0</td>\n",
       "      <td>0</td>\n",
       "      <td>0</td>\n",
       "      <td>0</td>\n",
       "      <td>0</td>\n",
       "      <td>0</td>\n",
       "    </tr>\n",
       "    <tr>\n",
       "      <th>3</th>\n",
       "      <td>1</td>\n",
       "      <td>1</td>\n",
       "      <td>0</td>\n",
       "      <td>0</td>\n",
       "      <td>0</td>\n",
       "      <td>0</td>\n",
       "      <td>1</td>\n",
       "      <td>0</td>\n",
       "      <td>0</td>\n",
       "      <td>0</td>\n",
       "      <td>...</td>\n",
       "      <td>0</td>\n",
       "      <td>0</td>\n",
       "      <td>0</td>\n",
       "      <td>0</td>\n",
       "      <td>0</td>\n",
       "      <td>0</td>\n",
       "      <td>0</td>\n",
       "      <td>0</td>\n",
       "      <td>0</td>\n",
       "      <td>0</td>\n",
       "    </tr>\n",
       "    <tr>\n",
       "      <th>4</th>\n",
       "      <td>0</td>\n",
       "      <td>1</td>\n",
       "      <td>0</td>\n",
       "      <td>0</td>\n",
       "      <td>0</td>\n",
       "      <td>0</td>\n",
       "      <td>0</td>\n",
       "      <td>0</td>\n",
       "      <td>0</td>\n",
       "      <td>0</td>\n",
       "      <td>...</td>\n",
       "      <td>0</td>\n",
       "      <td>0</td>\n",
       "      <td>0</td>\n",
       "      <td>0</td>\n",
       "      <td>0</td>\n",
       "      <td>0</td>\n",
       "      <td>0</td>\n",
       "      <td>0</td>\n",
       "      <td>0</td>\n",
       "      <td>0</td>\n",
       "    </tr>\n",
       "  </tbody>\n",
       "</table>\n",
       "<p>5 rows × 73 columns</p>\n",
       "</div>"
      ],
      "text/plain": [
       "   sex  white  black  hisp  shs  hsg  scl  clg  mw  so   ...    int213  \\\n",
       "0    0      1      0     0    0    0    0    1   0   0   ...         0   \n",
       "1    1      1      0     0    0    0    0    1   0   0   ...         0   \n",
       "2    1      1      0     0    0    1    0    0   0   0   ...         0   \n",
       "3    1      1      0     0    0    0    1    0   0   0   ...         0   \n",
       "4    0      1      0     0    0    0    0    0   0   0   ...         0   \n",
       "\n",
       "   int214  int215  int216  int217  int218  int219  int220  int221  int222  \n",
       "0       0       0       0       1       0       0       0       0       0  \n",
       "1       0       0       0       0       0       0       0       0       0  \n",
       "2       0       0       0       0       0       0       0       0       0  \n",
       "3       0       0       0       0       0       0       0       0       0  \n",
       "4       0       0       0       0       0       0       0       0       0  \n",
       "\n",
       "[5 rows x 73 columns]"
      ]
     },
     "execution_count": 3,
     "metadata": {},
     "output_type": "execute_result"
    }
   ],
   "source": [
    "datay = data.lwage\n",
    "datax=data.drop(['wage','lwage','occ','occ2','ind','ind2', 'exp2', 'exp3', 'exp4'],axis=1)\n",
    "#Occupations and industry are categorical. Do one-hot encodings\n",
    "occ2 = data.loc[:,'occ2']-1 #-1 because min(occ2) is 1, not 0\n",
    "ind2 = data.loc[:,'ind2']-1 \n",
    "dataocc2s = pd.get_dummies(occ2,prefix='ocx2',prefix_sep='')\n",
    "dataind2s = pd.get_dummies(ind2,prefix='int2',prefix_sep='');\n",
    "datax = pd.concat((datax, dataocc2s,dataind2s), axis=1)\n",
    "datax.shape\n",
    "datax.head()"
   ]
  },
  {
   "cell_type": "markdown",
   "metadata": {},
   "source": [
    "Split in train and test"
   ]
  },
  {
   "cell_type": "code",
   "execution_count": 4,
   "metadata": {
    "collapsed": false
   },
   "outputs": [
    {
     "name": "stderr",
     "output_type": "stream",
     "text": [
      "/usr/local/lib/python2.7/dist-packages/sklearn/cross_validation.py:44: DeprecationWarning: This module was deprecated in version 0.18 in favor of the model_selection module into which all the refactored classes and functions are moved. Also note that the interface of the new CV iterators are different from that of this module. This module will be removed in 0.20.\n",
      "  \"This module will be removed in 0.20.\", DeprecationWarning)\n"
     ]
    }
   ],
   "source": [
    "from sklearn.cross_validation import train_test_split\n",
    "x_train, x_test, y_train, y_test = train_test_split(datax, datay, test_size=0.5, random_state=0)"
   ]
  },
  {
   "cell_type": "markdown",
   "metadata": {},
   "source": [
    "Fit a bunch of regression algorithms"
   ]
  },
  {
   "cell_type": "code",
   "execution_count": 5,
   "metadata": {
    "collapsed": false
   },
   "outputs": [
    {
     "name": "stdout",
     "output_type": "stream",
     "text": [
      "MSE linear model: 0.272057222231\n",
      "R2 linear model: 0.312417252801\n",
      "MSE lasso model: 0.384517090145\n",
      "R2 lasso model: 0.0281922493386\n",
      "MSE lassoCV model: 0.274573768353\n",
      "R2 lassoCV model: 0.306057069886\n",
      "MSE Ridge model: 0.272024003919\n",
      "R2 Ridge model: 0.31250120697\n",
      "MSE RidgeCV model: 0.271884973661\n",
      "R2 RidgeCV model: 0.312852584544\n",
      "MSE ElasticNet model: 0.379553821047\n",
      "R2 ElasticNet model: 0.0407361479113\n",
      "MSE ElasticNetCV model: 0.274591026107\n",
      "R2 ElasticNetCV model: 0.30601345357\n",
      "MSE RandomForest model: 0.280586789302\n",
      "R2 RandomForest model: 0.290860085116\n",
      "MSE BoostedTrees model: 0.272385572505\n",
      "R2 BoostedTrees model: 0.311587398031\n"
     ]
    },
    {
     "data": {
      "text/plain": [
       "'\\nModel - MSE/R2 found - MSE/R2 in R\\nMSE linear model: 0.272057253969 0.253\\nR2 linear model: 0.312417172586 0.340\\nMSE lasso model: 0.384517090145 0.260\\nR2 lasso model: 0.0281922493386 0.016\\nMSE lassoCV model: 0.274573768353 0.273\\nR2 lassoCV model: 0.306057069886 0.017\\nMSE Ridge model: 0.272024003919 0.281\\nR2 Ridge model: 0.31250120697 0.016\\nMSE RidgeCV model: 0.27188497366 0.285\\nR2 RidgeCV model: 0.312852584545 0.016\\nMSE ElasticNet model: 0.379553821047 0.271\\nR2 ElasticNet model: 0.0407361479113 0.017\\nMSE ElasticNetCV model: 0.274591026107 \\nR2 ElasticNetCV model: 0.30601345357\\nMSE RandomForest model: 0.280800183886 0.249\\nR2 RandomForest model: 0.290320763157 0.015\\nMSE BoostedTrees model: 0.272386320796 0.259\\nR2 BoostedTrees model: 0.311585506839 0.016\\n'"
      ]
     },
     "execution_count": 5,
     "metadata": {},
     "output_type": "execute_result"
    }
   ],
   "source": [
    "from sklearn.linear_model import LinearRegression,Lasso,LassoCV,Ridge,RidgeCV,ElasticNet,ElasticNetCV\n",
    "#from sklearn import neural_network\n",
    "from sklearn.ensemble import RandomForestRegressor, GradientBoostingRegressor\n",
    "from sklearn import metrics\n",
    "\n",
    "fitLM = LinearRegression(fit_intercept=1).fit(x_train,y_train)\n",
    "fitLM.intercept_;fitLM.coef_[50:];\n",
    "y_predLM = fitLM.predict(x_test);\n",
    "print \"MSE linear model:\",metrics.mean_squared_error(y_test, y_predLM)\n",
    "print \"R2 linear model:\",metrics.r2_score(y_test, y_predLM)\n",
    "\n",
    "rLasso = Lasso().fit(x_train,y_train)\n",
    "y_predLasso = rLasso.predict(x_test)\n",
    "print \"MSE lasso model:\",metrics.mean_squared_error(y_test, y_predLasso)\n",
    "print \"R2 lasso model:\",metrics.r2_score(y_test, y_predLasso)\n",
    "\n",
    "rLassoCV = LassoCV().fit(x_train,y_train)\n",
    "y_predLassoCV = rLassoCV.predict(x_test)\n",
    "print \"MSE lassoCV model:\",metrics.mean_squared_error(y_test, y_predLassoCV)\n",
    "print \"R2 lassoCV model:\",metrics.r2_score(y_test, y_predLassoCV)\n",
    "\n",
    "rRidge = Ridge().fit(x_train,y_train)\n",
    "y_predRidge = rRidge.predict(x_test)\n",
    "print \"MSE Ridge model:\",metrics.mean_squared_error(y_test, y_predRidge)\n",
    "print \"R2 Ridge model:\",metrics.r2_score(y_test, y_predRidge)\n",
    "\n",
    "rRidgeCV = RidgeCV().fit(x_train,y_train)\n",
    "y_predRidgeCV = rRidgeCV.predict(x_test)\n",
    "print \"MSE RidgeCV model:\",metrics.mean_squared_error(y_test, y_predRidgeCV)\n",
    "print \"R2 RidgeCV model:\",metrics.r2_score(y_test, y_predRidgeCV)\n",
    "\n",
    "rElasticNet = ElasticNet(l1_ratio=0.5).fit(x_train,y_train)\n",
    "y_predElasticNet = rElasticNet.predict(x_test)\n",
    "print \"MSE ElasticNet model:\",metrics.mean_squared_error(y_test, y_predElasticNet)\n",
    "print \"R2 ElasticNet model:\",metrics.r2_score(y_test, y_predElasticNet)\n",
    "\n",
    "rElasticNetCV = ElasticNetCV().fit(x_train,y_train)\n",
    "y_predElasticNetCV = rElasticNetCV.predict(x_test)\n",
    "print \"MSE ElasticNetCV model:\",metrics.mean_squared_error(y_test, y_predElasticNetCV)\n",
    "print \"R2 ElasticNetCV model:\",metrics.r2_score(y_test, y_predElasticNetCV)\n",
    "\n",
    "rRF = RandomForestRegressor(n_estimators=2000, min_samples_leaf=5).fit(x_train,y_train)\n",
    "y_predRF = rRF.predict(x_test)\n",
    "print \"MSE RandomForest model:\",metrics.mean_squared_error(y_test, y_predRF)\n",
    "print \"R2 RandomForest model:\",metrics.r2_score(y_test, y_predRF)\n",
    "\n",
    "params = {'n_estimators': 1000, 'max_depth': 4, 'min_samples_split': 5,\n",
    "          'learning_rate': 0.01, 'loss': 'ls'}\n",
    "rBoost = GradientBoostingRegressor(**params).fit(x_train,y_train)\n",
    "y_predBoost = rBoost.predict(x_test)\n",
    "print \"MSE BoostedTrees model:\",metrics.mean_squared_error(y_test, y_predBoost)\n",
    "print \"R2 BoostedTrees model:\",metrics.r2_score(y_test, y_predBoost)\n",
    "\n",
    "'''\n",
    "Model - MSE/R2 found - MSE/R2 in R\n",
    "MSE linear model: 0.272057253969 0.253\n",
    "R2 linear model: 0.312417172586 0.340\n",
    "MSE lasso model: 0.384517090145 0.260\n",
    "R2 lasso model: 0.0281922493386 0.016\n",
    "MSE lassoCV model: 0.274573768353 0.273\n",
    "R2 lassoCV model: 0.306057069886 0.017\n",
    "MSE Ridge model: 0.272024003919 0.281\n",
    "R2 Ridge model: 0.31250120697 0.016\n",
    "MSE RidgeCV model: 0.27188497366 0.285\n",
    "R2 RidgeCV model: 0.312852584545 0.016\n",
    "MSE ElasticNet model: 0.379553821047 0.271\n",
    "R2 ElasticNet model: 0.0407361479113 0.017\n",
    "MSE ElasticNetCV model: 0.274591026107 \n",
    "R2 ElasticNetCV model: 0.30601345357\n",
    "MSE RandomForest model: 0.280800183886 0.249\n",
    "R2 RandomForest model: 0.290320763157 0.015\n",
    "MSE BoostedTrees model: 0.272386320796 0.259\n",
    "R2 BoostedTrees model: 0.311585506839 0.016\n",
    "'''"
   ]
  },
  {
   "cell_type": "markdown",
   "metadata": {},
   "source": [
    "Ensemble model: linear fitting"
   ]
  },
  {
   "cell_type": "code",
   "execution_count": 6,
   "metadata": {
    "collapsed": false
   },
   "outputs": [
    {
     "data": {
      "text/plain": [
       "array([ 0.48511196,  0.06916855, -0.12360535,  0.2552019 ,  0.27631582,\n",
       "        0.11209098])"
      ]
     },
     "execution_count": 6,
     "metadata": {},
     "output_type": "execute_result"
    }
   ],
   "source": [
    "#There is something wrong with this linear model in scikitlearn\n",
    "x_Ens=np.column_stack((y_predLM, y_predLasso,y_predElasticNet,y_predRF,y_predBoost))\n",
    "x_EnsConst=np.hstack((x_Ens,np.ones((len(x_Ens),1))))\n",
    "fitEnsLM = LinearRegression(fit_intercept=0).fit(x_EnsConst,y_test)\n",
    "#fitEnsLM.intercept_\n",
    "fitEnsLM.coef_\n",
    "#y_predEnsLM = fitEnsLM.predict(x_test)\n",
    "#print \"MSE ensamble linear model:\",np.mean((y_test - y_predEnsLM) ** 2)     #MSE \n",
    "#print \"R2 ensamble  linear model:\", 1 - np.sum((y_test - y_predEnsLM) ** 2)/np.sum((y_test - np.mean(y_test))**2) #R2\n"
   ]
  },
  {
   "cell_type": "markdown",
   "metadata": {},
   "source": [
    "Ensemble model: linear fit  (statsmodels)"
   ]
  },
  {
   "cell_type": "code",
   "execution_count": 7,
   "metadata": {
    "collapsed": false
   },
   "outputs": [
    {
     "name": "stdout",
     "output_type": "stream",
     "text": [
      "MSE ensamble linear model: 0.26705034964\n",
      "R2 ensamble linear model: 0.325071352489\n"
     ]
    },
    {
     "name": "stderr",
     "output_type": "stream",
     "text": [
      "/usr/local/lib/python2.7/dist-packages/statsmodels/compat/pandas.py:56: FutureWarning: The pandas.core.datetools module is deprecated and will be removed in a future version. Please use the pandas.tseries module instead.\n",
      "  from pandas.core import datetools\n"
     ]
    }
   ],
   "source": [
    "import statsmodels.discrete.discrete_model as sm\n",
    "from statsmodels.api import add_constant\n",
    "x_Ens=np.column_stack((y_predLM, y_predLasso,y_predElasticNet,y_predRF,y_predBoost))\n",
    "x_EnsConst=add_constant(x_Ens,prepend = False)\n",
    "#Same Linear Model thing using statsmodels\n",
    "result = sm.OLS(y_test, x_EnsConst).fit()   #Linear model on train data\n",
    "result.summary()\n",
    "y_predEnsLM = result.predict(x_EnsConst)\n",
    "print \"MSE ensamble linear model:\",metrics.mean_squared_error(y_test, y_predEnsLM)\n",
    "print \"R2 ensamble linear model:\",metrics.r2_score(y_test, y_predEnsLM)"
   ]
  },
  {
   "cell_type": "markdown",
   "metadata": {},
   "source": [
    "Lasso does not converge, probably because there are too little methods "
   ]
  },
  {
   "cell_type": "code",
   "execution_count": 8,
   "metadata": {
    "collapsed": false
   },
   "outputs": [
    {
     "name": "stdout",
     "output_type": "stream",
     "text": [
      "MSE lasso model: 0.384517090145\n",
      "R2 lasso model: 0.0281922493386\n"
     ]
    }
   ],
   "source": [
    "lasso = Lasso(alpha=1).fit(x_Ens,y_test)\n",
    "y_predEnsLasso = lasso.predict(x_Ens)\n",
    "lasso.intercept_\n",
    "lasso.coef_\n",
    "print \"MSE lasso model:\",metrics.mean_squared_error(y_test, y_predLasso)\n",
    "print \"R2 lasso model:\",metrics.r2_score(y_test, y_predLasso)"
   ]
  },
  {
   "cell_type": "markdown",
   "metadata": {},
   "source": [
    "Ensemble model: lasso fitting - Cannot make it work :("
   ]
  },
  {
   "cell_type": "code",
   "execution_count": 9,
   "metadata": {
    "collapsed": false
   },
   "outputs": [
    {
     "ename": "TypeError",
     "evalue": "unbound method fit_regularized() must be called with OLS instance as first argument (got nothing instead)",
     "output_type": "error",
     "traceback": [
      "\u001b[0;31m---------------------------------------------------------------------------\u001b[0m",
      "\u001b[0;31mTypeError\u001b[0m                                 Traceback (most recent call last)",
      "\u001b[0;32m<ipython-input-9-7d042dbcdd0f>\u001b[0m in \u001b[0;36m<module>\u001b[0;34m()\u001b[0m\n\u001b[1;32m      1\u001b[0m \u001b[0;32mimport\u001b[0m \u001b[0mstatsmodels\u001b[0m\u001b[0;34m.\u001b[0m\u001b[0mregression\u001b[0m \u001b[0;32mas\u001b[0m \u001b[0mlm\u001b[0m\u001b[0;34m\u001b[0m\u001b[0m\n\u001b[0;32m----> 2\u001b[0;31m \u001b[0mlasso\u001b[0m \u001b[0;34m=\u001b[0m \u001b[0mlm\u001b[0m\u001b[0;34m.\u001b[0m\u001b[0mlinear_model\u001b[0m\u001b[0;34m.\u001b[0m\u001b[0mOLS\u001b[0m\u001b[0;34m.\u001b[0m\u001b[0mfit_regularized\u001b[0m\u001b[0;34m(\u001b[0m\u001b[0mL1_wt\u001b[0m\u001b[0;34m=\u001b[0m\u001b[0;36m1\u001b[0m\u001b[0;34m)\u001b[0m\u001b[0;34m\u001b[0m\u001b[0m\n\u001b[0m\u001b[1;32m      3\u001b[0m \u001b[0mresultLasso\u001b[0m\u001b[0;34m=\u001b[0m\u001b[0mlasso\u001b[0m\u001b[0;34m.\u001b[0m\u001b[0mfit\u001b[0m\u001b[0;34m(\u001b[0m\u001b[0mx_Ens\u001b[0m\u001b[0;34m,\u001b[0m\u001b[0my_test\u001b[0m\u001b[0;34m)\u001b[0m\u001b[0;34m\u001b[0m\u001b[0m\n\u001b[1;32m      4\u001b[0m \u001b[0my_predEnsLasso\u001b[0m \u001b[0;34m=\u001b[0m \u001b[0mresultLasso\u001b[0m\u001b[0;34m.\u001b[0m\u001b[0mpredict\u001b[0m\u001b[0;34m(\u001b[0m\u001b[0mx_Ens\u001b[0m\u001b[0;34m)\u001b[0m\u001b[0;34m\u001b[0m\u001b[0m\n\u001b[1;32m      5\u001b[0m \u001b[0mresultLasso\u001b[0m\u001b[0;34m.\u001b[0m\u001b[0mcoef_\u001b[0m\u001b[0;34m\u001b[0m\u001b[0m\n",
      "\u001b[0;31mTypeError\u001b[0m: unbound method fit_regularized() must be called with OLS instance as first argument (got nothing instead)"
     ]
    }
   ],
   "source": [
    "import statsmodels.regression as lm\n",
    "lasso = lm.linear_model.OLS.fit_regularized(L1_wt=1)\n",
    "resultLasso=lasso.fit(x_Ens,y_test)\n",
    "y_predEnsLasso = resultLasso.predict(x_Ens)\n",
    "resultLasso.coef_\n",
    "print \"MSE ensamble lasso model:\",metrics.mean_squared_error(y_test, y_predEnsLasso)\n",
    "print \"R2 ensamble lasso model:\",metrics.r2_score(y_test, y_predEnsLasso)"
   ]
  }
 ],
 "metadata": {
  "kernelspec": {
   "display_name": "Python 2",
   "language": "python",
   "name": "python2"
  },
  "language_info": {
   "codemirror_mode": {
    "name": "ipython",
    "version": 2
   },
   "file_extension": ".py",
   "mimetype": "text/x-python",
   "name": "python",
   "nbconvert_exporter": "python",
   "pygments_lexer": "ipython2",
   "version": "2.7.12"
  },
  "widgets": {
   "state": {},
   "version": "1.1.2"
  }
 },
 "nbformat": 4,
 "nbformat_minor": 0
}
